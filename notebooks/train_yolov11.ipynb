version https://git-lfs.github.com/spec/v1
oid sha256:ec893f6abdc519b3e9676eac95dc1a2283c66460b4d6fe03b9b08a509fc051cc
size 88620184
